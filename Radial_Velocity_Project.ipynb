{
  "nbformat": 4,
  "nbformat_minor": 0,
  "metadata": {
    "colab": {
      "name": "Radial-Velocity-Project.ipynb",
      "provenance": [],
      "authorship_tag": "ABX9TyMQKw0RKLX5f6nCokrB+sP0",
      "include_colab_link": true
    },
    "kernelspec": {
      "name": "python3",
      "display_name": "Python 3"
    }
  },
  "cells": [
    {
      "cell_type": "markdown",
      "metadata": {
        "id": "view-in-github",
        "colab_type": "text"
      },
      "source": [
        "<a href=\"https://colab.research.google.com/github/PrathamBabaria/radial-velocity-andromeda/blob/main/Radial_Velocity_Project.ipynb\" target=\"_parent\"><img src=\"https://colab.research.google.com/assets/colab-badge.svg\" alt=\"Open In Colab\"/></a>"
      ]
    },
    {
      "cell_type": "code",
      "metadata": {
        "id": "oIx2t97Qo8cU"
      },
      "source": [
        "import numpy as np\n",
        "import matplotlib.pyplot as plt\n",
        "%matplotlib inline\n",
        "# we will need to write files again so we import the required \n",
        "# files package from google.colab\n",
        "from google.colab import files"
      ],
      "execution_count": null,
      "outputs": []
    },
    {
      "cell_type": "code",
      "metadata": {
        "id": "ePeX2MMJpFs1"
      },
      "source": [
        "def shiftToMoving(restLambda, v):\n",
        "    \"\"\"Function to shift a wavelength array using the Doppler equation.\n",
        "    \"\"\"\n",
        "    newLambda = restLambda\n",
        "    return newLambda"
      ],
      "execution_count": null,
      "outputs": []
    },
    {
      "cell_type": "code",
      "metadata": {
        "id": "kUi0bWOYpIw6"
      },
      "source": [
        "rest_h_alpha = 6563.\n"
      ],
      "execution_count": null,
      "outputs": []
    },
    {
      "cell_type": "code",
      "metadata": {
        "id": "m6YOZ4mHpNE4"
      },
      "source": [
        "star_name='Star Name Goes Here'\n",
        "temp_name='Template Name Here'\n",
        "scienceFile = star_name + '_spec.txt'\n",
        "templateFile = temp_name+ '_tmpl.txt'\n",
        "\n",
        "print(\"Be sure to upload the files named {} and {}\\n\\n\".format(scienceFile, templateFile))\n",
        "\n",
        "uploaded = files.upload()\n",
        "\n",
        "for fn in uploaded.keys():\n",
        "  print('User uploaded file \"{name}\" with length {length} bytes'.format(\n",
        "      name=fn, length=len(uploaded[fn])))\n",
        "\n",
        "sciLambda, sciFlux = np.loadtxt(scienceFile, unpack = True)\n",
        "tmpLambda, tmpFlux = np.loadtxt(templateFile, unpack = True)"
      ],
      "execution_count": null,
      "outputs": []
    },
    {
      "cell_type": "code",
      "metadata": {
        "id": "EDkENtz-pR0D"
      },
      "source": [
        "v_guess=0.0\n",
        "#Shift template spectrum using the Doppler equation\n",
        "new_tmpLambda = shiftToMoving(tmpLambda, v_guess)\n",
        "\n",
        "#Plot science and template spectra on the same axes.\n",
        "ax = plt.axes()\n",
        "ax.plot(new_tmpLambda, tmpFlux, c = 'black', label = 'Template ' + temp_name)\n",
        "ax.plot(sciLambda, sciFlux, c = 'red', label = 'Science ' + star_name)\n",
        "ax.set_xlabel('Lambda (angstroms)')\n",
        "ax.set_ylabel('Relative Flux')\n",
        "plt.legend()"
      ],
      "execution_count": null,
      "outputs": []
    },
    {
      "cell_type": "code",
      "metadata": {
        "id": "GPYroTNHpe8m"
      },
      "source": [
        "keck_uploaded = files.upload()\n",
        "\n",
        "for fn in keck_uploaded.keys():\n",
        "  print('User uploaded file \"{name}\"'.format(name=fn))\n",
        "\n",
        "#Read in data\n",
        "ra, dec, xi, eta, f475w, f814w, v, verr = np.loadtxt('keck_hst_data.txt', \n",
        "                                                     unpack = True)\n",
        "\n",
        "#conversion factor: degrees to kiloparsecs (this is a distance)\n",
        "deg2kpc = 13.67\n",
        "xi *= deg2kpc\n",
        "eta *= deg2kpc"
      ],
      "execution_count": null,
      "outputs": []
    },
    {
      "cell_type": "code",
      "metadata": {
        "id": "OnBlRmx6pgpS"
      },
      "source": [
        "ax = plt.axes(aspect = 'equal')\n",
        "ax.set_xlabel('xi (kpc)')\n",
        "ax.set_ylabel('eta (kpc)')\n",
        "ax.set_xlim(15, -5)\n",
        "ax.set_ylim(-10, 15)\n",
        "# the color map (cmap variable) viridis is the default for \n",
        "#     matplotlib versions > 2\n",
        "cc = ax.scatter(xi, eta, c = v, s = 5, edgecolors = 'none', vmin = -700, \n",
        "                vmax = 100, cmap='viridis')   \n",
        "\n",
        "plt.colorbar(cc, label = 'Radial velocity (km/s)')\n"
      ],
      "execution_count": null,
      "outputs": []
    }
  ]
}