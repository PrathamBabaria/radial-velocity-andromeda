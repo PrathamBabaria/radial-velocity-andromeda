{
  "nbformat": 4,
  "nbformat_minor": 0,
  "metadata": {
    "anaconda-cloud": {},
    "kernelspec": {
      "display_name": "Python 3",
      "language": "python",
      "name": "python3"
    },
    "language_info": {
      "codemirror_mode": {
        "name": "ipython",
        "version": 3
      },
      "file_extension": ".py",
      "mimetype": "text/x-python",
      "name": "python",
      "nbconvert_exporter": "python",
      "pygments_lexer": "ipython3",
      "version": "3.5.2"
    },
    "colab": {
      "name": "SEES 4-Radial Velocity Activity.ipynb",
      "provenance": [],
      "collapsed_sections": [],
      "include_colab_link": true
    }
  },
  "cells": [
    {
      "cell_type": "markdown",
      "metadata": {
        "id": "view-in-github",
        "colab_type": "text"
      },
      "source": [
        "<a href=\"https://colab.research.google.com/github/PrathamBabaria/radial-velocity-andromeda/blob/main/SEES_4_Radial_Velocity_Activity.ipynb\" target=\"_parent\"><img src=\"https://colab.research.google.com/assets/colab-badge.svg\" alt=\"Open In Colab\"/></a>"
      ]
    },
    {
      "cell_type": "markdown",
      "metadata": {
        "id": "4SpDk7v9Y8Kx"
      },
      "source": [
        "# CREDIT: Prof. Raja GuhaThakurta of UCSC and the Science Internship Program\n",
        "This Python tutorial was originally developed by Dr. Raja GuhaThakurta and his astronomy graduate students as part of the [Science Internship Program (SIP)](http://ucsc-sip.org/about/) for Bay Area high school students at the University of California Santa Cruz (UCSC). Dr. GuhaThakurta's tutorial is called Python and Research (PyaR).\n",
        "\n",
        "SEES thanks Dr. GuhaThakurta for his generosity in sharing Jupyter notebooks, video tutorials, data, and related resources.\n",
        "\n",
        "In 2020, a SEES mentor has adapted Dr. GuhaThakurta's tutorials to run in the Google Colaboratory.   "
      ]
    },
    {
      "cell_type": "markdown",
      "metadata": {
        "id": "nyF8y0FqxBzo"
      },
      "source": [
        "## Radial Velocity Activity\n",
        "\n",
        "In this activity, we will be looking at some plotted spectra and measuring their velocities. As usual, begin by running the first cell to import Matplotlib and NumPy."
      ]
    },
    {
      "cell_type": "code",
      "metadata": {
        "id": "0s1oQOVxxBzp"
      },
      "source": [
        "import numpy as np\n",
        "import matplotlib.pyplot as plt\n",
        "%matplotlib inline\n",
        "# we will need to write files again so we import the required \n",
        "# files package from google.colab\n",
        "from google.colab import files"
      ],
      "execution_count": null,
      "outputs": []
    },
    {
      "cell_type": "markdown",
      "metadata": {
        "id": "4T8cE5_qxBzu"
      },
      "source": [
        "Now, on to the science! The ***data*** subfolder in your ***SIP*** folder contains spectra of 3 stars (text files named 491422_spec.txt, 6004761_spec.txt, and 1757844_spec.txt). Your task is to measure the radial velocities of these stars. \n",
        "\n",
        "Modify the shiftToMoving function below so that it converts the template rest wavelength array to a Doppler shifted moving wavelength.\n",
        "How to do this? You will need to convert a mathematical equation into Python code. First you need to know the equation. NASA and the Internet are your friends here. Specifically NASA's [Goddard Space Flight Center](https://imagine.gsfc.nasa.gov/features/yba/M31_velocity/spectrum/doppler_more.html) offers a great explanation of the Doppler shift and the exact equation for a Doppler shifted wavelength. Your challenge is to convert the formula into Pythonese.\n",
        "\n",
        "Remember that Lambda is the Greek letter $\\lambda$ and the symbol for wavelength. So, $\\lambda_{0}$ is resting wavelength (restLamba) while $\\lambda^\\prime$ is Doppler shifted moving wavelength (newLamba). Velocity is represented by $\\upsilon$ and speed, $c_{0}$, will be the speed of light, in this astronomy case. So you will need to know the value for the constant, speed of light. Choose a variable name for $c_{0}$ and assign it the proper value in kilometers per second.\n",
        "\n",
        "**Note**: Try this on your own. If you cannot figure out how to write the equation, you can watch the notebook 4 tutorial video, "
      ]
    },
    {
      "cell_type": "code",
      "metadata": {
        "id": "0uOvVmFfxBzu"
      },
      "source": [
        "def shiftToMoving(restLambda, v):\n",
        "    \"\"\"Function to shift a wavelength array using the Doppler equation.\n",
        "    \"\"\"\n",
        "    newLambda = restLambda\n",
        "    return newLambda"
      ],
      "execution_count": null,
      "outputs": []
    },
    {
      "cell_type": "markdown",
      "metadata": {
        "id": "EPD2_u3fxBzy"
      },
      "source": [
        "Make sure that your code makes sense: If you apply a positive velocity, should the shifted wavelength be longer or shorter than the original wavelength? Does your code reproduce your expectation? Test your code below with my favorite rest wavelength and a few velocities.\n",
        "\n",
        "How to test the code? Set the variables required to run the shiftToMoving function and 'call' the function - enter it as a command. Can't remember how to do this? Revisit the functions section in ***SEES 1-Python Intro.ipynb***."
      ]
    },
    {
      "cell_type": "code",
      "metadata": {
        "id": "hm-I27y9xBzy"
      },
      "source": [
        "rest_h_alpha = 6563.\n",
        "# Fill in code here to test shiftToMoving with v = 200 km/s and v = -200 km/s.\n",
        "# Name your own velocity variable \n",
        "# Does your answer make sense?\n"
      ],
      "execution_count": null,
      "outputs": []
    },
    {
      "cell_type": "markdown",
      "metadata": {
        "id": "twyT4TgAxBz4"
      },
      "source": [
        "Now on to our 3 stars for today's activity. The first step is to pick a science star and a template star and read in the files. Fill in the name of the star in \"star_name\" (e.g., 6004761, 1757844, or 491422) and pick a template to put in \"temp_name\" (e.g., MS, RGB, AGB)."
      ]
    },
    {
      "cell_type": "code",
      "metadata": {
        "id": "afQKD_7AxBz5"
      },
      "source": [
        "star_name='Star Name Goes Here'\n",
        "temp_name='Template Name Here'\n",
        "scienceFile = star_name + '_spec.txt'\n",
        "templateFile = temp_name+ '_tmpl.txt'\n",
        "\n",
        "print(\"Be sure to upload the files named {} and {}\\n\\n\".format(scienceFile, templateFile))\n",
        "\n",
        "uploaded = files.upload()\n",
        "\n",
        "for fn in uploaded.keys():\n",
        "  print('User uploaded file \"{name}\" with length {length} bytes'.format(\n",
        "      name=fn, length=len(uploaded[fn])))\n",
        "\n",
        "sciLambda, sciFlux = np.loadtxt(scienceFile, unpack = True)\n",
        "tmpLambda, tmpFlux = np.loadtxt(templateFile, unpack = True)\n"
      ],
      "execution_count": null,
      "outputs": []
    },
    {
      "cell_type": "markdown",
      "metadata": {
        "id": "zLKyaLpAxBz8"
      },
      "source": [
        "This next line is the key line in the code--it shifts the template velocity to your suggested velocity for the star, and makes a plot showing the two. Put in an intial guess for the velocity of the star and see how it looks!"
      ]
    },
    {
      "cell_type": "code",
      "metadata": {
        "id": "OAzM758FxBz8"
      },
      "source": [
        "v_guess=0.0\n",
        "#Shift template spectrum using the Doppler equation\n",
        "new_tmpLambda = shiftToMoving(tmpLambda, v_guess)\n",
        "\n",
        "#Plot science and template spectra on the same axes.\n",
        "ax = plt.axes()\n",
        "ax.plot(new_tmpLambda, tmpFlux, c = 'black', label = 'Template ' + temp_name)\n",
        "ax.plot(sciLambda, sciFlux, c = 'red', label = 'Science ' + star_name)\n",
        "ax.set_xlabel('Lambda (angstroms)')\n",
        "ax.set_ylabel('Relative Flux')\n",
        "plt.legend()"
      ],
      "execution_count": null,
      "outputs": []
    },
    {
      "cell_type": "markdown",
      "metadata": {
        "id": "vKmRP9S5xBz_"
      },
      "source": [
        "Does the template look like a good match for this star? Try the other two templates to see which one looks the most like the science star. Do this by editing temp_name above, and then re-run the cell that reads in the files and the cell that shifts the wavelength and makes the plot.\n",
        "\n",
        "After you're happy with your template, use the command ax.set_xlim(7000, 7200) to zoom in on the region between 7000 and 7200 angstroms. Play with \"v_guess\" until you're happy with how the two are lined up. Once you're happy with your velocity, write it down--and repeat with the next two science stars! "
      ]
    },
    {
      "cell_type": "markdown",
      "metadata": {
        "id": "Rd1Ebk5ixB0A"
      },
      "source": [
        "# Response requested\n",
        "### Record your velocities here (double click on this cell to edit):\n",
        "\n",
        "6004761: Template= , Velocity =\n",
        "\n",
        "1757844: Template= , Velocity = \n",
        "\n",
        "491422:  Template= , Velocity = \n"
      ]
    },
    {
      "cell_type": "markdown",
      "metadata": {
        "collapsed": true,
        "id": "XsegctUAxB0B"
      },
      "source": [
        "## Radial Velocity Map of Andromeda\n",
        "\n",
        "Now that you've successfully measured the velocities of a few stars, let's look at the velocities of all the stars we have in the Andromeda galaxy! First, we need to read in the data file containing our velocities:"
      ]
    },
    {
      "cell_type": "code",
      "metadata": {
        "id": "edoyQmyvxB0C"
      },
      "source": [
        "keck_uploaded = files.upload()\n",
        "\n",
        "for fn in keck_uploaded.keys():\n",
        "  print('User uploaded file \"{name}\"'.format(name=fn))\n",
        "\n",
        "#Read in data\n",
        "ra, dec, xi, eta, f475w, f814w, v, verr = np.loadtxt('keck_hst_data.txt', \n",
        "                                                     unpack = True)\n",
        "\n",
        "#conversion factor: degrees to kiloparsecs (this is a distance)\n",
        "deg2kpc = 13.67\n",
        "xi *= deg2kpc\n",
        "eta *= deg2kpc"
      ],
      "execution_count": null,
      "outputs": []
    },
    {
      "cell_type": "markdown",
      "metadata": {
        "id": "IVjZZmc0xB0F"
      },
      "source": [
        "Now we make the plot showing the positions of the stars and color coding the stars based on their velocities."
      ]
    },
    {
      "cell_type": "code",
      "metadata": {
        "id": "yAemN0krxB0G"
      },
      "source": [
        "ax = plt.axes(aspect = 'equal')\n",
        "ax.set_xlabel('xi (kpc)')\n",
        "ax.set_ylabel('eta (kpc)')\n",
        "ax.set_xlim(15, -5)\n",
        "ax.set_ylim(-10, 15)\n",
        "# the color map (cmap variable) viridis is the default for \n",
        "#     matplotlib versions > 2\n",
        "cc = ax.scatter(xi, eta, c = v, s = 5, edgecolors = 'none', vmin = -700, \n",
        "                vmax = 100, cmap='viridis')   \n",
        "\n",
        "plt.colorbar(cc, label = 'Radial velocity (km/s)')"
      ],
      "execution_count": null,
      "outputs": []
    },
    {
      "cell_type": "markdown",
      "metadata": {
        "id": "fUT0LywWxB0J"
      },
      "source": [
        "Edit the code cell above to label parts of the plot as \"blueshifted,\" \"redshifted,\" or \"neither,\" relative to M31's center. You can use the ax.text() command to edit the plot--for example,\n",
        "\n",
        "ax.text(1, -.5, ‘I am at school late today.’)\n",
        "\n",
        "Insert the ax.text() statements after setting the x and y limits."
      ]
    },
    {
      "cell_type": "code",
      "metadata": {
        "id": "9yWgay_6xB0J"
      },
      "source": [
        "# Redo the map with a different colorbar that visually\n",
        "# illustrates red and blue-shifted regions.  For a list\n",
        "# of all of matplotlib's colormaps see here:\n",
        "# https://matplotlib.org/users/colormaps.html\n",
        "ax = plt.axes(aspect = 'equal')\n",
        "ax.set_xlabel('xi (kpc)')\n",
        "ax.set_ylabel('eta (kpc)')\n",
        "ax.set_xlim(15, -5)\n",
        "ax.set_ylim(-10, 15)\n",
        "cc = ax.scatter(xi, eta, c = v, s = 5, edgecolors = 'none', vmin = -700, vmax = 100,\n",
        "                cmap='viridis')\n",
        "plt.colorbar(cc, label = 'Radial velocity (km/s)')"
      ],
      "execution_count": null,
      "outputs": []
    },
    {
      "cell_type": "markdown",
      "metadata": {
        "id": "e3mp2738xB0M"
      },
      "source": [
        "# Question to respond to:\n",
        "\n",
        "Based on your plot, what is the systemic velocity (average velocity) of Andromeda relative to us?\n",
        "\n",
        "*Double click or use Markdown pencil icon to start editing.*"
      ]
    },
    {
      "cell_type": "markdown",
      "metadata": {
        "id": "04Y6g0uQru9S"
      },
      "source": [
        "# Preparing for Advanced Level Certificate\n",
        "When you have successfully completed the code that plots the requested radial velocity maps, you can prepare this notebook for submission. Also be sure to answer questions asked in the appropriate text cells. Your answers demonstrate that you've attempted to interpret the science data. They will not be scored.\n",
        "\n",
        "Make sure that your saved notebook shows your output by running all code cells.\n",
        "\n",
        "Add a text cell at the top of your notebook. Write your name, your team code, and your specific team name. \n",
        "\n",
        "Copy or rename notebook 4 in this way:  \n",
        "* *team code* SEES 4-Radial Velocity Activity *last name*_*first name*.ipynb. \n",
        "\n",
        "For example, a team mentor for SEES would name her notebook *S_4-Radial Velocity Activity_Howard_Teresa.ipynb*.\n",
        "\n",
        "Upload your file to the correct team and certificate location in Basecamp."
      ]
    }
  ]
}